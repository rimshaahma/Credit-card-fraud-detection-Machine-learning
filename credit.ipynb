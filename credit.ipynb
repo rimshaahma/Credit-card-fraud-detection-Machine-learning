{
 "cells": [
  {
   "cell_type": "code",
   "execution_count": null,
   "id": "6b1089d0-126c-4566-9488-760fb027e81f",
   "metadata": {},
   "outputs": [],
   "source": [
    "import pandas as pd"
   ]
  },
  {
   "cell_type": "code",
   "execution_count": null,
   "id": "45ec3b43-5ecc-4082-be1d-7609a496edb2",
   "metadata": {},
   "outputs": [],
   "source": [
    "data=pd.read_csv(\"creditcard.csv\" nrows=1000)"
   ]
  },
  {
   "cell_type": "code",
   "execution_count": null,
   "id": "ab6e1d2f-05b6-47a9-8dfb-1019c6198c7b",
   "metadata": {},
   "outputs": [],
   "source": [
    "data.head()"
   ]
  },
  {
   "cell_type": "code",
   "execution_count": null,
   "id": "8ef4f1f6-2556-4ed1-99b4-aa1ed859a5e5",
   "metadata": {},
   "outputs": [],
   "source": [
    "# Set display options to limit output\n",
    "pd.set_option('display.max_rows', 100)     # Adjust to show only 100 rows\n",
    "pd.set_option('display.max_columns', 20)   # Adjust to show only 20 columns\n"
   ]
  },
  {
   "cell_type": "code",
   "execution_count": null,
   "id": "b367aed7-6bb3-4c2f-9703-1f5d01f148f4",
   "metadata": {},
   "outputs": [],
   "source": [
    "import os, psutil\n",
    "\n",
    "# Function to check memory usage\n",
    "def memory_usage():\n",
    "    process = psutil.Process(os.getpid())\n",
    "    return f\"{process.memory_info().rss / 1024 ** 2:.2f} MB\"\n",
    "\n",
    "print(\"Current memory usage:\", memory_usage())\n"
   ]
  },
  {
   "cell_type": "code",
   "execution_count": null,
   "id": "c9a6c51c-f41a-4a55-b849-e7ffa594d930",
   "metadata": {},
   "outputs": [],
   "source": [
    "pd.options.display.max_columns=None"
   ]
  },
  {
   "cell_type": "code",
   "execution_count": null,
   "id": "e3370d14-d9d8-45a6-a077-39683f659119",
   "metadata": {},
   "outputs": [],
   "source": [
    "data.head()"
   ]
  },
  {
   "cell_type": "code",
   "execution_count": null,
   "id": "c15d2ff0-7675-46d3-ad8f-2d8fb0e35cdc",
   "metadata": {},
   "outputs": [],
   "source": [
    "data.tail()"
   ]
  },
  {
   "cell_type": "code",
   "execution_count": null,
   "id": "b5388f61-f80d-4452-9ff7-5465da22408b",
   "metadata": {},
   "outputs": [],
   "source": [
    "data.shape"
   ]
  },
  {
   "cell_type": "code",
   "execution_count": null,
   "id": "568cadd6-326d-452e-9f2f-24426ccae8b8",
   "metadata": {},
   "outputs": [],
   "source": [
    "print(\"Number of columns :{}\".format(data.shape[1]))"
   ]
  },
  {
   "cell_type": "code",
   "execution_count": null,
   "id": "53280dc2-26d6-40c1-b468-fa0d2f09ec04",
   "metadata": {},
   "outputs": [],
   "source": [
    "\n",
    "print(\"Number of rows :{}\".format(data.shape[0]))\n"
   ]
  },
  {
   "cell_type": "code",
   "execution_count": null,
   "id": "1a40030c-e782-44ea-9386-ca1ea92d2ec3",
   "metadata": {},
   "outputs": [],
   "source": [
    "data.info()"
   ]
  },
  {
   "cell_type": "code",
   "execution_count": null,
   "id": "22ee5713-7b4d-4817-9ee3-49391d76adeb",
   "metadata": {},
   "outputs": [],
   "source": [
    "data.isnull().sum()"
   ]
  },
  {
   "cell_type": "code",
   "execution_count": null,
   "id": "d2a28d74-a480-41ab-b766-f86303a478ee",
   "metadata": {},
   "outputs": [],
   "source": [
    "from sklearn.preprocessing import  StandardScaler"
   ]
  },
  {
   "cell_type": "code",
   "execution_count": null,
   "id": "b8b68e5e-b29e-4ba6-a888-2c42d5cdfe8c",
   "metadata": {},
   "outputs": [],
   "source": [
    "sc=StandardScaler()"
   ]
  },
  {
   "cell_type": "code",
   "execution_count": null,
   "id": "957dc1f5-aac1-4af1-9675-a3e87010856a",
   "metadata": {},
   "outputs": [],
   "source": [
    "data['Amount']=sc.fit_transform(pd.DataFrame(data['Amount']))"
   ]
  },
  {
   "cell_type": "code",
   "execution_count": null,
   "id": "e50e74f0-ea7f-4a6d-a1b1-8dd89f020c9a",
   "metadata": {},
   "outputs": [],
   "source": [
    "data.head()"
   ]
  },
  {
   "cell_type": "code",
   "execution_count": null,
   "id": "8653af79-a262-4fb5-a031-5e397ec594e1",
   "metadata": {},
   "outputs": [],
   "source": [
    "data=data.drop(['Time'],axis=1)"
   ]
  },
  {
   "cell_type": "code",
   "execution_count": null,
   "id": "5d78cb4b-05f2-403a-a845-20e4779f8942",
   "metadata": {},
   "outputs": [],
   "source": [
    "data.head()"
   ]
  },
  {
   "cell_type": "code",
   "execution_count": null,
   "id": "bd469e70-8460-4a8e-8e53-7832ede82b5a",
   "metadata": {},
   "outputs": [],
   "source": [
    "data.duplicated().any()"
   ]
  },
  {
   "cell_type": "code",
   "execution_count": null,
   "id": "5d090df6-8848-44cb-91a3-ab1a1603fc86",
   "metadata": {},
   "outputs": [],
   "source": [
    "data=data.drop_duplicates()"
   ]
  },
  {
   "cell_type": "code",
   "execution_count": null,
   "id": "3820595e-b824-4330-9e3e-a2d70a70dcb7",
   "metadata": {},
   "outputs": [],
   "source": [
    "data.shape"
   ]
  },
  {
   "cell_type": "code",
   "execution_count": null,
   "id": "5762d90b-f29b-4ee5-a280-179c9e8b7fd3",
   "metadata": {},
   "outputs": [],
   "source": [
    "data['Class'].value_counts()"
   ]
  },
  {
   "cell_type": "code",
   "execution_count": null,
   "id": "2245259a-a9df-447a-95d7-0aa28fec9696",
   "metadata": {},
   "outputs": [],
   "source": [
    "import seaborn as sns\n",
    "import matplotlib.pyplot as plt\n",
    "plt.style.use('ggplot')"
   ]
  },
  {
   "cell_type": "code",
   "execution_count": null,
   "id": "b7a0b7ed-8e5c-4710-8bd1-13cb68fc9938",
   "metadata": {},
   "outputs": [],
   "source": [
    "sns.countplot(data['Class'])\n",
    "plt.show()"
   ]
  },
  {
   "cell_type": "code",
   "execution_count": null,
   "id": "58c956ce-595b-48a6-bfe2-7b62ee82dd66",
   "metadata": {},
   "outputs": [],
   "source": [
    "X = data.drop('Class', axis = 1)\n",
    "y=data['Class']\n",
    "\n"
   ]
  },
  {
   "cell_type": "code",
   "execution_count": null,
   "id": "e73d969f-d867-4fe4-b366-c51d4d9fdfe7",
   "metadata": {},
   "outputs": [],
   "source": [
    "from sklearn.model_selection import train_test_split"
   ]
  },
  {
   "cell_type": "code",
   "execution_count": null,
   "id": "b6a3aa47-cd1b-4920-adac-00f6bcaee408",
   "metadata": {},
   "outputs": [],
   "source": [
    "X_train,X_test,y_train,y_test=train_test_spli(X,y,test_size=0.2,randomstate=42"
   ]
  },
  {
   "cell_type": "code",
   "execution_count": null,
   "id": "cd614205-3dac-4c6b-9a35-8dc9ef08b268",
   "metadata": {},
   "outputs": [],
   "source": [
    "import numpy as np\n",
    "from sklearn.linear_model import LogisticRegression\n",
    "from  sklearn.ensemble import RandomForestClassifier\n",
    "from sklearn.tree import DecisionTreeClassifier\n",
    "from sklearn.metrics import accuracy_score,f1_score,precision_score,recall_score"
   ]
  },
  {
   "cell_type": "code",
   "execution_count": null,
   "id": "be6f5b96-dff2-4797-a020-87860010e56a",
   "metadata": {},
   "outputs": [],
   "source": [
    "classifier={\n",
    "    \"Logistic Regression\":LogisticRegression(),\n",
    "    \"Decision Tree Classifier\":DecisionTreeClassifier()\n",
    "}\n",
    "for name,clf in classifier.items():\n",
    "    print(f\"\\n Accuracy: {accuracy_score(y_test,y_pred)}\")\n",
    "     print(f\"\\n Precision: {accuracy_score(y_test,y_pred)}\")\n",
    " print(f\"\\n Recall: {accuracy_score(y_test,y_pred)}\")\n",
    " print(f\"\\n F1 Score: {accuracy_score(y_test,y_pred)}\")\n",
    "    "
   ]
  },
  {
   "cell_type": "code",
   "execution_count": null,
   "id": "c31b7bfc-0db1-4eaa-800d-e98c8f1c952b",
   "metadata": {},
   "outputs": [],
   "source": [
    "# under sampling\n",
    "normal=data[data['Class']==0]\n",
    "fraud=data[data['Class']==1]"
   ]
  },
  {
   "cell_type": "code",
   "execution_count": null,
   "id": "83d5f470-8586-4caa-9c78-24edd8dcecbd",
   "metadata": {},
   "outputs": [],
   "source": [
    "normal.shape"
   ]
  },
  {
   "cell_type": "code",
   "execution_count": null,
   "id": "e8d652fd-aac4-4fde-8898-9968660b524b",
   "metadata": {},
   "outputs": [],
   "source": [
    "fraud.shape"
   ]
  },
  {
   "cell_type": "code",
   "execution_count": null,
   "id": "47709cce-8a57-419e-9c51-200c42d25477",
   "metadata": {},
   "outputs": [],
   "source": [
    "normal_saample=normal.sample(n=473)"
   ]
  },
  {
   "cell_type": "code",
   "execution_count": null,
   "id": "b150a35f-d874-4b3e-b514-c4f1e497c515",
   "metadata": {},
   "outputs": [],
   "source": [
    "normal_sample.shape"
   ]
  },
  {
   "cell_type": "code",
   "execution_count": null,
   "id": "d4853ef8-c9b4-4a63-ad8f-322ea1d787c3",
   "metadata": {},
   "outputs": [],
   "source": [
    "new_data=pd.concat([normal_sample,fraud],ignore_index=True)"
   ]
  },
  {
   "cell_type": "code",
   "execution_count": null,
   "id": "f5694177-e1bf-4508-b719-1bfa74d2e6ad",
   "metadata": {},
   "outputs": [],
   "source": [
    "new_data.head()"
   ]
  },
  {
   "cell_type": "code",
   "execution_count": null,
   "id": "f9b9528d-701c-465a-a1c2-32dab07ece03",
   "metadata": {},
   "outputs": [],
   "source": [
    "new_data['Class'].value_counts()"
   ]
  },
  {
   "cell_type": "code",
   "execution_count": null,
   "id": "cf15f2c5-7cd1-46c8-98a3-d4a293ccea7c",
   "metadata": {},
   "outputs": [],
   "source": [
    "X = new_data.drop('Class', axis = 1)\n",
    "y= new_data['Class']"
   ]
  },
  {
   "cell_type": "code",
   "execution_count": null,
   "id": "ad11ab09-d8b9-4dfe-939f-b571c04a2233",
   "metadata": {},
   "outputs": [],
   "source": [
    "X_train, X_test, y_train, y_test = train_test_split(X, y, test_size = 0.2, random_state = 42)"
   ]
  },
  {
   "cell_type": "code",
   "execution_count": null,
   "id": "ecf02166-6f77-4f32-a317-f5e408705430",
   "metadata": {},
   "outputs": [],
   "source": [
    "classifier = {\n",
    "    \"Logistic Regression\": LogisticRegression(),\n",
    "    \"Decision Tree Classifier\": DecisionTreeClassifier()\n",
    "}\n",
    "\n",
    "for name, clf in classifier.items():\n",
    "    print(f\"\\n=========={name}===========\")\n",
    "    clf.fit(X_train, y_train)\n",
    "    y_pred = clf.predict(X_test)\n",
    "    print(f\"\\n Accuaracy: {accuracy_score(y_test, y_pred)}\")\n",
    "    print(f\"\\n Precision: {precision_score(y_test, y_pred)}\")\n",
    "    print(f\"\\n Recall: {recall_score(y_test, y_pred)}\")\n",
    "    print(f\"\\n F1 Score: {f1_score(y_test, y_pred)}\")"
   ]
  },
  {
   "cell_type": "code",
   "execution_count": null,
   "id": "f849c1de-101c-4ec6-a13d-13d23fa965a9",
   "metadata": {},
   "outputs": [],
   "source": [
    "y.shape"
   ]
  },
  {
   "cell_type": "code",
   "execution_count": null,
   "id": "73787359-c5b0-4c96-a893-911667845327",
   "metadata": {},
   "outputs": [],
   "source": [
    "from imblearn.over_sampling import SMOTE"
   ]
  },
  {
   "cell_type": "code",
   "execution_count": null,
   "id": "77b52eba-0856-44df-96b9-44ed1adebf13",
   "metadata": {},
   "outputs": [],
   "source": [
    "X_res, y_res = SMOTE().fit_resample(X,y)"
   ]
  },
  {
   "cell_type": "code",
   "execution_count": null,
   "id": "9717241c-e37d-4358-8985-a48b23d62763",
   "metadata": {},
   "outputs": [],
   "source": [
    "y_res.value_counts()"
   ]
  },
  {
   "cell_type": "code",
   "execution_count": null,
   "id": "31e665d6-0e01-40f8-98d8-1bd9dd693d93",
   "metadata": {},
   "outputs": [],
   "source": [
    "X_train, X_test, y_train, y_test = train_test_split(X_res, y_res, test_size = 0.2, random_state = 42)"
   ]
  },
  {
   "cell_type": "code",
   "execution_count": null,
   "id": "541bd5dc-552f-4dea-9f7e-059ccc513f61",
   "metadata": {},
   "outputs": [],
   "source": [
    "classifier = {\n",
    "    \"Logistic Regression\": LogisticRegression(),\n",
    "    \"Decision Tree Classifier\": DecisionTreeClassifier()\n",
    "}\n",
    "\n",
    "for name, clf in classifier.items():\n",
    "    print(f\"\\n=========={name}===========\")\n",
    "    clf.fit(X_train, y_train)\n",
    "    y_pred = clf.predict(X_test)\n",
    "    print(f\"\\n Accuaracy: {accuracy_score(y_test, y_pred)}\")\n",
    "    print(f\"\\n Precision: {precision_score(y_test, y_pred)}\")\n",
    "    print(f\"\\n Recall: {recall_score(y_test, y_pred)}\")\n",
    "    print(f\"\\n F1 Score: {f1_score(y_test, y_pred)}\")"
   ]
  },
  {
   "cell_type": "code",
   "execution_count": null,
   "id": "64e1cce4-9eb7-427a-b43b-25364af468cd",
   "metadata": {},
   "outputs": [],
   "source": [
    "import joblib"
   ]
  },
  {
   "cell_type": "code",
   "execution_count": null,
   "id": "3c5147ce-46c2-4eff-a37d-f450d4d03bfb",
   "metadata": {},
   "outputs": [],
   "source": [
    "joblib.dump(dtc, \"credit_card_model.pkl\")"
   ]
  },
  {
   "cell_type": "code",
   "execution_count": null,
   "id": "dc245eef-d0cd-410d-abf4-ea36730b6003",
   "metadata": {},
   "outputs": [],
   "source": [
    "model = joblib.load(\"credit_card_model.pkl\")"
   ]
  },
  {
   "cell_type": "code",
   "execution_count": null,
   "id": "56198572-de12-4968-ad76-0504ed1b1af4",
   "metadata": {},
   "outputs": [],
   "source": [
    "pred[0]"
   ]
  },
  {
   "cell_type": "code",
   "execution_count": null,
   "id": "4c51923d-4442-46b2-a096-f8ce8459adab",
   "metadata": {},
   "outputs": [],
   "source": [
    "if pred[0] == 0:\n",
    "    print(\"Normal Transcation\")\n",
    "else:\n",
    "    print(\"Fraud Transcation\")"
   ]
  }
 ],
 "metadata": {
  "kernelspec": {
   "display_name": "Python 3 (ipykernel)",
   "language": "python",
   "name": "python3"
  },
  "language_info": {
   "codemirror_mode": {
    "name": "ipython",
    "version": 3
   },
   "file_extension": ".py",
   "mimetype": "text/x-python",
   "name": "python",
   "nbconvert_exporter": "python",
   "pygments_lexer": "ipython3",
   "version": "3.12.4"
  }
 },
 "nbformat": 4,
 "nbformat_minor": 5
}
